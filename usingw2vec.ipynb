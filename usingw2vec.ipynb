{
  "nbformat": 4,
  "nbformat_minor": 0,
  "metadata": {
    "colab": {
      "name": "usingw2vec.ipynb",
      "provenance": [],
      "collapsed_sections": [],
      "machine_shape": "hm",
      "mount_file_id": "1SkL2cuJyjO8T0eF5GleQ6q0v0ZJaAISY",
      "authorship_tag": "ABX9TyMO+WVc4bJX2Tj6xBuEe74Y",
      "include_colab_link": true
    },
    "kernelspec": {
      "name": "python3",
      "display_name": "Python 3"
    },
    "language_info": {
      "name": "python"
    },
    "accelerator": "GPU"
  },
  "cells": [
    {
      "cell_type": "markdown",
      "metadata": {
        "id": "view-in-github",
        "colab_type": "text"
      },
      "source": [
        "<a href=\"https://colab.research.google.com/github/singhsa3/Emotions/blob/main/usingw2vec.ipynb\" target=\"_parent\"><img src=\"https://colab.research.google.com/assets/colab-badge.svg\" alt=\"Open In Colab\"/></a>"
      ]
    },
    {
      "cell_type": "code",
      "execution_count": null,
      "metadata": {
        "colab": {
          "base_uri": "https://localhost:8080/"
        },
        "id": "oo0zAFLkdS5y",
        "outputId": "2d77b70a-4bb6-482c-ecf8-a99f347bc51b"
      },
      "outputs": [
        {
          "output_type": "stream",
          "name": "stdout",
          "text": [
            "Drive already mounted at /content/drive; to attempt to forcibly remount, call drive.mount(\"/content/drive\", force_remount=True).\n"
          ]
        }
      ],
      "source": [
        "from google.colab import drive\n",
        "drive.mount('/content/drive')\n",
        "\n",
        "pathG='/content/drive/MyDrive/Pract/data' \n"
      ]
    },
    {
      "cell_type": "code",
      "source": [
        "import librosa, librosa.display\n",
        "import matplotlib.pyplot as plt\n",
        "\n",
        "import os\n",
        "import glob\n",
        "\n",
        "import cv2\n",
        "!pip3 install pickle5\n",
        "import pickle5 as pickle\n",
        "from PIL import Image as im"
      ],
      "metadata": {
        "id": "Q6cTyZVydgca",
        "colab": {
          "base_uri": "https://localhost:8080/"
        },
        "outputId": "2750dda0-7612-4d90-bb9d-47de3f407cb6"
      },
      "execution_count": null,
      "outputs": [
        {
          "output_type": "stream",
          "name": "stdout",
          "text": [
            "Looking in indexes: https://pypi.org/simple, https://us-python.pkg.dev/colab-wheels/public/simple/\n",
            "Requirement already satisfied: pickle5 in /usr/local/lib/python3.7/dist-packages (0.0.12)\n"
          ]
        }
      ]
    },
    {
      "cell_type": "code",
      "source": [
        "DATASET_PATH = \"/content/drive/MyDrive/Pract/data/w2v2_pkl\""
      ],
      "metadata": {
        "id": "4NblImFddp9T"
      },
      "execution_count": null,
      "outputs": []
    },
    {
      "cell_type": "code",
      "source": [
        "# Get data list\n",
        "\"\"\"\n",
        "Created on Tue Jun  7 20:48:17 2022\n",
        "\n",
        "@author: sanjeev\n",
        "\"\"\"\n",
        "\n",
        "import argparse\n",
        "import math\n",
        "import sys\n",
        "import time\n",
        "import copy\n",
        "import numpy as np\n",
        "\n",
        "import keras\n",
        "from keras import regularizers\n",
        "from keras.models import Sequential, Model\n",
        "from keras.layers import Dense, Dropout, Flatten, Activation, BatchNormalization #, regularizers\n",
        "from keras.layers.noise import GaussianNoise\n",
        "from keras.layers import Conv2D, MaxPooling2D,AveragePooling2D\n",
        "from keras import backend as K\n",
        "from keras.callbacks import ModelCheckpoint, EarlyStopping\n",
        "from keras.utils.np_utils import to_categorical\n",
        "\n",
        "\n",
        "import os\n",
        "\n",
        "#os.chdir('/media/sanjeev/Data/Pract/Practicum/codesNdata/mycode')\n",
        "#pathG='../data'\n",
        "\n",
        "import pandas as pd\n",
        "df=pd.read_csv(pathG+\"/labels/Yared Alemu_fear.csv\")\n",
        "df = df.reset_index()\n",
        "df['name2'] =df['name'].apply (lambda x: x.split(\".\")[0]+\".pickle\")\n",
        "\n",
        "\n",
        "import glob\n",
        "\n",
        "import os\n",
        " \n",
        "filenames= glob.glob(DATASET_PATH+\"/*.pickle\" )\n",
        "filenames = [os.path.basename(x) for x in filenames]\n",
        "\n"
      ],
      "metadata": {
        "id": "Dyfp0YeCwBMJ"
      },
      "execution_count": null,
      "outputs": []
    },
    {
      "cell_type": "code",
      "source": [
        "# This is to get maximum size of the array\n",
        "fl= DATASET_PATH +\"/\"+df.iloc[0]['name2']\n",
        "with open(fl,\"rb\") as f:\n",
        "  x=pickle.load(f)\n",
        "l = [x[0].shape[0]]\n",
        "w = [x[0].shape[1]] #np.expand_dims(x, axis=0) \n",
        "#print(arr.shape)\n",
        "for i,row in df.iterrows():\n",
        "    if i>0:\n",
        "        fl = DATASET_PATH+\"/\"+row['name2']\n",
        "        with open(fl,\"rb\") as f:\n",
        "          x=pickle.load(f) \n",
        "        l.append(x[0].shape[0])      \n",
        "        w.append(x[0].shape[1])\n",
        "        #print(l[-1], w[-1])\n",
        "#labels=np.array(df.emotion)\n",
        "l95=int(np.percentile(l,95))\n",
        "x=None"
      ],
      "metadata": {
        "id": "TSNEzCyeCHY4"
      },
      "execution_count": null,
      "outputs": []
    },
    {
      "cell_type": "code",
      "source": [
        "# This is to delete the rows greater than max size\n",
        "df2=df.copy(deep=True)\n",
        "for i,row in df.iterrows():    \n",
        "    fl = DATASET_PATH+\"/\"+row['name2']\n",
        "    with open(fl,\"rb\") as f:\n",
        "      x=pickle.load(f)     \n",
        "    l1 = x[0].shape[0]\n",
        "    w1 = x[0].shape[1] \n",
        "    if l1> l95:\n",
        "      try:\n",
        "        #print(i)\n",
        "        df2=df2.drop(df.iloc[i].name)\n",
        "      except:\n",
        "        print(i,l1)\n",
        "        print(\"encountered and error\")\n",
        "\n",
        "df= df2.reset_index()\n",
        "x=None"
      ],
      "metadata": {
        "id": "TTNcFKd2FNaG"
      },
      "execution_count": null,
      "outputs": []
    },
    {
      "cell_type": "code",
      "source": [
        "df= df.reset_index()"
      ],
      "metadata": {
        "id": "caQzvQxtE3gY"
      },
      "execution_count": null,
      "outputs": []
    },
    {
      "cell_type": "code",
      "source": [
        "# Normalizing all the data to same size and create batches to reduce momory footprint\n",
        "def datanumpy(batch_size, start, df):\n",
        "  fl= DATASET_PATH +\"/\"+df.iloc[0]['name2']\n",
        "  with open(fl,\"rb\") as f:\n",
        "    x=pickle.load(f)\n",
        "  l1 = x[0].shape[0]\n",
        "  arr=np.pad(x.cpu().detach().numpy(), ((0,0), (10,l95-l1+1), (0, 0)), 'constant')\n",
        "\n",
        "  j=start\n",
        "  idx=[]\n",
        "  for i,row in df.iterrows():\n",
        "    if (i>=j and i<=batch_size+j-1):      \n",
        "      fl = DATASET_PATH+\"/\"+row['name2']\n",
        "      with open(fl,\"rb\") as f:\n",
        "        x=pickle.load(f)\n",
        "      l1 = x[0].shape[0]\n",
        "      try:\n",
        "        arr2=np.pad(x.cpu().detach().numpy(), ((0,0), (10,l95-l1+1), (0, 0)), 'constant')\n",
        "        arr = np.vstack((arr,arr2))\n",
        "        idx.append(i)\n",
        "        #print(i)\n",
        "        x=None\n",
        "      except:\n",
        "        print(l1)    \n",
        "  \n",
        "  arr =np.delete(arr, (0), axis=0) # First row was dummy row\n",
        "  l=arr.shape[1]\n",
        "  w= arr.shape[2]\n",
        "  end = batch_size+j-1\n",
        "  arr = arr.reshape(arr.shape[0],l,w,1)\n",
        "  labels=np.array(df.emotion.iloc[idx])\n",
        "  return start, end , arr , labels "
      ],
      "metadata": {
        "id": "4pcfelWQn81L"
      },
      "execution_count": null,
      "outputs": []
    },
    {
      "cell_type": "code",
      "source": [
        "fl= DATASET_PATH +\"/\"+df.iloc[0]['name2']\n",
        "with open(fl,\"rb\") as f:\n",
        "  x=pickle.load(f)"
      ],
      "metadata": {
        "id": "WnJxR3WxAsuQ"
      },
      "execution_count": null,
      "outputs": []
    },
    {
      "cell_type": "code",
      "source": [
        "c= x[0].numpy().T\n",
        "b = np.max(c)\n",
        "a = np.min(c)\n",
        "c =255*(c-a)/(b-a)\n",
        "c=c.astype(np.uint8)\n",
        "data=im.fromarray(c)\n",
        "data = data.resize((224,224) )\n",
        "c=np.array(data)\n"
      ],
      "metadata": {
        "colab": {
          "base_uri": "https://localhost:8080/"
        },
        "id": "HCAH83FGA1sF",
        "outputId": "281deb52-3d13-4731-9dde-8c8fbdd077a3"
      },
      "execution_count": null,
      "outputs": [
        {
          "output_type": "execute_result",
          "data": {
            "text/plain": [
              "(224, 224)"
            ]
          },
          "metadata": {},
          "execution_count": 82
        }
      ]
    },
    {
      "cell_type": "code",
      "source": [
        "arr=np.pad(x.cpu().detach().numpy(), ((0,0), (10,l95+l1+1), (0, 0)), 'constant')"
      ],
      "metadata": {
        "id": "i5_avz9TCP69"
      },
      "execution_count": null,
      "outputs": []
    },
    {
      "cell_type": "code",
      "source": [
        "arr.shape"
      ],
      "metadata": {
        "colab": {
          "base_uri": "https://localhost:8080/"
        },
        "id": "z_Nby6tPCYiM",
        "outputId": "63f7c9d0-32e1-4114-f4ee-6dbb6cdd0d54"
      },
      "execution_count": null,
      "outputs": [
        {
          "output_type": "execute_result",
          "data": {
            "text/plain": [
              "(1, 14591, 768)"
            ]
          },
          "metadata": {},
          "execution_count": 85
        }
      ]
    },
    {
      "cell_type": "code",
      "source": [
        "# Normalizing all the data to same size and create batches to reduce momory footprint\n",
        "def imgconvert(df):\n",
        "  fl= DATASET_PATH +\"/\"+df.iloc[0]['name2']\n",
        "  with open(fl,\"rb\") as f:\n",
        "    x=pickle.load(f)\n",
        "  l1 = x[0].shape[0]\n",
        "  x=np.pad(x.cpu().detach().numpy(), ((0,0), (10,l95-l1+1), (0, 0)), 'constant')\n",
        "  c= x[0].T\n",
        "  b = np.max(c)\n",
        "  a = np.min(c)\n",
        "  c =255*(c-a)/(b-a)\n",
        "  c=c.astype(np.uint8)\n",
        "  data=im.fromarray(c)\n",
        "  data = data.resize((224,224) )\n",
        "  arr=np.array(data)\n",
        "  arr = arr.reshape(1,224,224)\n",
        "  #print(arr.shape)\n",
        "  j=start\n",
        "  idx=[]\n",
        "  for i,row in df.iterrows():      \n",
        "    fl = DATASET_PATH+\"/\"+row['name2']\n",
        "    with open(fl,\"rb\") as f:\n",
        "      x=pickle.load(f)\n",
        "    l1 = x[0].shape[0]\n",
        "    try:\n",
        "      x=np.pad(x.cpu().detach().numpy(), ((0,0), (10,l95-l1+1), (0, 0)), 'constant')\n",
        "      c= x[0].T\n",
        "      b = np.max(c)\n",
        "      a = np.min(c)\n",
        "      c =255*(c-a)/(b-a)\n",
        "      c=c.astype(np.uint8)\n",
        "      data=im.fromarray(c)\n",
        "      data = data.resize((224,224) )\n",
        "      arr2=np.array(data)\n",
        "      arr2 = arr2.reshape(1,224,224)\n",
        "      #print(arr2.shape)\n",
        "      arr = np.vstack((arr,arr2))\n",
        "      idx.append(i)\n",
        "      #print(i)\n",
        "      x=None\n",
        "    except:\n",
        "      print(l1)   \n",
        "  \n",
        "  arr =np.delete(arr, (0), axis=0) # First row was dummy row\n",
        "  #l=arr.shape[1]\n",
        "  #w= arr.shape[2]\n",
        "  #arr = arr.reshape(1,224,224)\n",
        "  labels=np.array(df.emotion.iloc[idx])\n",
        "  return arr , labels "
      ],
      "metadata": {
        "id": "KSDywpZMz8wy"
      },
      "execution_count": null,
      "outputs": []
    },
    {
      "cell_type": "code",
      "source": [
        "arr, labels =imgconvert(df)"
      ],
      "metadata": {
        "id": "TtDW2EKtDN6M"
      },
      "execution_count": null,
      "outputs": []
    },
    {
      "cell_type": "code",
      "source": [
        "arr.shape"
      ],
      "metadata": {
        "colab": {
          "base_uri": "https://localhost:8080/"
        },
        "id": "YdHWJmpkFGLE",
        "outputId": "a903ef81-7ad8-485e-949c-57c1258f051b"
      },
      "execution_count": null,
      "outputs": [
        {
          "output_type": "execute_result",
          "data": {
            "text/plain": [
              "(416, 224, 224)"
            ]
          },
          "metadata": {},
          "execution_count": 110
        }
      ]
    },
    {
      "cell_type": "code",
      "source": [
        "#https://datascience.stackexchange.com/questions/26833/is-there-away-to-change-the-metric-used-by-the-early-stopping-callback-in-keras\n",
        "#https://stackoverflow.com/questions/37657260/how-to-implement-custom-metric-in-keras\n",
        "class EarlyStopByF1(keras.callbacks.Callback):\n",
        "    from sklearn.metrics import f1_score\n",
        "    def __init__(self, verbose = 0, n=10):\n",
        "        super(keras.callbacks.Callback, self).__init__()        \n",
        "        self.verbose = verbose\n",
        "        self.lst = [100000]*n\n",
        "        self.finalscore = 0\n",
        "\n",
        "    def on_epoch_end(self, epoch, logs={}):\n",
        "         predict = np.asarray(self.model.predict(self.validation_data[0]))\n",
        "         target = self.validation_data[1]\n",
        "         score = f1_score(target, prediction)\n",
        "         selffinalscore =score\n",
        "         self.lst.insert(0, score)\n",
        "         self.lst.pop()\n",
        "         if score > np.mean(self.lst):\n",
        "            if self.verbose >0:\n",
        "                print(\"Epoch %05d: early stopping Threshold\" % epoch)\n",
        "            self.model.stop_training = True\n",
        "    def get_data(self):\n",
        "        return selffinalscore"
      ],
      "metadata": {
        "id": "kfrNc4_KCGLW"
      },
      "execution_count": null,
      "outputs": []
    },
    {
      "cell_type": "code",
      "source": [
        "def create_model( img_rows, img_cols, filters):\n",
        "  #size of parameters \n",
        "  num_classes = 2  \n",
        "  noise = 1\n",
        "  droprate=0.25\n",
        "\n",
        "  input_shape = ( img_rows, img_cols,filters)\n",
        "  #Start Neural Network\n",
        "  model = Sequential()\n",
        "  #convolution 1st layer\n",
        "  model.add(Conv2D(8, kernel_size=(3, 3), \n",
        "                  activation='relu', padding=\"same\",\n",
        "                  input_shape=input_shape)) \n",
        "  model.add(AveragePooling2D(pool_size=(2, 2)))\n",
        "\n",
        "\n",
        "  #convolution 2nd layer\n",
        "  model.add(Conv2D(16, kernel_size=(3, 3),  padding=\"same\",\n",
        "                  activation='relu')) \n",
        "  model.add(AveragePooling2D(pool_size=(2, 2)))\n",
        "\n",
        "  #convolution 3rd layer\n",
        "  model.add(Conv2D(32, kernel_size=(3, 3),  padding=\"same\",\n",
        "                  activation='relu')) \n",
        "  model.add(AveragePooling2D(pool_size=(2, 2)))\n",
        "\n",
        "\n",
        "  #Fully connected 1st layer\n",
        "  model.add(Flatten())\n",
        "  model.add(Dense(25088,use_bias=True)) \n",
        "  model.add(Activation('relu')) \n",
        "  #model.add(Dropout(droprate)) \n",
        "\n",
        "  model.add(Dense(2048,use_bias=True)) \n",
        "  model.add(Activation('relu'))   \n",
        "\n",
        "\n",
        "  model.add(Dense(2048, use_bias=True)) \n",
        "  model.add(Activation('relu'))      \n",
        "\n",
        "  #Fully connected final layer\n",
        "  model.add(Dense(2)) \n",
        "  model.add(Activation('softmax')) \n",
        "\n",
        "  model.compile(loss=keras.losses.categorical_crossentropy,\n",
        "                optimizer=keras.optimizers.rmsprop_v2.RMSProp(),\n",
        "                metrics=[tf.keras.metrics.Recall()])\n",
        "  return model"
      ],
      "metadata": {
        "id": "AGYgF2123ixp"
      },
      "execution_count": null,
      "outputs": []
    },
    {
      "cell_type": "code",
      "source": [
        "# Creating a dataframe with 70%\n",
        "# values of original dataframe\n",
        "df_train= df.sample(frac = 0.9)\n",
        "df_test = df.drop(df_train.index) \n",
        "# Reset index require for batch to work\n",
        "df_train = df_train.reset_index()\n",
        "df_test = df_test.reset_index()\n",
        "#del df\n",
        "# Create a universal test set\n",
        "start, end , val_x ,val_y = datanumpy(df_test.shape[0], 0, df_test)\n",
        "val_y = val_y.astype(int)\n",
        "print(start, end, df_test.shape)"
      ],
      "metadata": {
        "colab": {
          "base_uri": "https://localhost:8080/"
        },
        "id": "vT1FJDDTJTgl",
        "outputId": "e99f9215-614d-406a-bd72-a6c254612ff0"
      },
      "execution_count": null,
      "outputs": [
        {
          "output_type": "stream",
          "name": "stdout",
          "text": [
            "0 12 (13, 9)\n"
          ]
        }
      ]
    },
    {
      "cell_type": "code",
      "source": [
        "val_x[0].shape\n",
        "from PIL import Image as im\n",
        "data = im.fromarray(val_x[0].reshape(1729,768))\n"
      ],
      "metadata": {
        "id": "-bzAcfyHbcQ4"
      },
      "execution_count": null,
      "outputs": []
    },
    {
      "cell_type": "code",
      "source": [
        ""
      ],
      "metadata": {
        "id": "lJ2xcJ1xcIHq"
      },
      "execution_count": null,
      "outputs": []
    },
    {
      "cell_type": "code",
      "source": [
        "c.shape"
      ],
      "metadata": {
        "colab": {
          "base_uri": "https://localhost:8080/"
        },
        "id": "EjHnAldKyKWP",
        "outputId": "ee59faf6-493b-4d02-8e7e-2cf9ccac7926"
      },
      "execution_count": null,
      "outputs": [
        {
          "output_type": "execute_result",
          "data": {
            "text/plain": [
              "(1729, 768)"
            ]
          },
          "metadata": {},
          "execution_count": 63
        }
      ]
    },
    {
      "cell_type": "code",
      "source": [
        "np.expand_dims(c, axis=2).shape"
      ],
      "metadata": {
        "id": "9inIRQn3dIB_",
        "colab": {
          "base_uri": "https://localhost:8080/"
        },
        "outputId": "8fdab7c0-c23b-438e-92c0-6b89430d04a5"
      },
      "execution_count": null,
      "outputs": [
        {
          "output_type": "execute_result",
          "data": {
            "text/plain": [
              "(1729, 768, 1)"
            ]
          },
          "metadata": {},
          "execution_count": 64
        }
      ]
    },
    {
      "cell_type": "code",
      "source": [
        "data"
      ],
      "metadata": {
        "colab": {
          "base_uri": "https://localhost:8080/",
          "height": 241
        },
        "id": "JasoZ0q6fsxQ",
        "outputId": "58c58016-2e5b-4f05-c895-e53540b35df7"
      },
      "execution_count": null,
      "outputs": [
        {
          "output_type": "execute_result",
          "data": {
            "text/plain": [
              "<PIL.Image.Image image mode=L size=224x224 at 0x7FF4B506EBD0>"
            ],
            "image/png": "[encoded data removed]"
          },
          "metadata": {},
          "execution_count": 71
        }
      ]
    },
    {
      "cell_type": "markdown",
      "source": [
        ""
      ],
      "metadata": {
        "id": "Y_XzqnSIfsB_"
      }
    },
    {
      "cell_type": "code",
      "source": [
        "from sklearn.model_selection import train_test_split\n",
        "batch_size=1\n",
        "start =0\n",
        "start, end , train_x , train_y = datanumpy(batch_size, start, df_train)\n",
        "train_y = train_y.astype(int)\n",
        "\n",
        "#reshape data\n",
        "y_train_CNN = train_y\n",
        "X_train_CNN = train_x\n",
        "print('train shape after reshape: {}'.format(X_train_CNN.shape))\n",
        "\n",
        "y_test_CNN = val_y\n",
        "X_test_CNN = val_x\n",
        "print('test shape after reshape: {}'.format(X_test_CNN.shape))\n",
        "\n",
        "# one hot encode outputs\n",
        "y_train_CNN = to_categorical(y_train_CNN)\n",
        "y_test_CNN = to_categorical(y_test_CNN)\n",
        "num_classes = y_train_CNN.shape[1]"
      ],
      "metadata": {
        "id": "4_mFvqD1EjQ9",
        "colab": {
          "base_uri": "https://localhost:8080/"
        },
        "outputId": "2669dace-b89d-4d49-df6a-510f4c3ac04c"
      },
      "execution_count": null,
      "outputs": [
        {
          "output_type": "stream",
          "name": "stdout",
          "text": [
            "train shape after reshape: (1, 1729, 768, 1)\n",
            "test shape after reshape: (13, 1729, 768, 1)\n"
          ]
        }
      ]
    },
    {
      "cell_type": "code",
      "source": [
        "# define path to save model\n",
        "model_path = './fm_cnn_BN.h5'\n",
        "# prepare callbacks\n",
        "callbacks = [\n",
        "    EarlyStopping(\n",
        "        monitor='val_acc', \n",
        "        patience=10,\n",
        "        mode='max',\n",
        "        verbose=1),\n",
        "    ModelCheckpoint(model_path,\n",
        "        monitor='val_acc', \n",
        "        save_best_only=True, \n",
        "        mode='max',\n",
        "        verbose=0)\n",
        "]\n"
      ],
      "metadata": {
        "id": "KPxCJ9B0Rho9"
      },
      "execution_count": null,
      "outputs": []
    },
    {
      "cell_type": "code",
      "source": [
        "epochs=50\n",
        "img_rows=X_train_CNN.shape[1]\n",
        "img_cols=X_train_CNN.shape[2]\n",
        "print(img_rows, img_cols)\n",
        "filters= 1\n",
        "import tensorflow as tf\n",
        "model=create_model(img_rows,img_cols,filters)"
      ],
      "metadata": {
        "colab": {
          "base_uri": "https://localhost:8080/",
          "height": 381
        },
        "id": "37eEGw8fVMiO",
        "outputId": "db875ef5-9ca6-4bcd-9ad8-589eff4feb55"
      },
      "execution_count": null,
      "outputs": [
        {
          "output_type": "stream",
          "name": "stdout",
          "text": [
            "1729 768\n"
          ]
        },
        {
          "output_type": "error",
          "ename": "ResourceExhaustedError",
          "evalue": "ignored",
          "traceback": [
            "\u001b[0;31m---------------------------------------------------------------------------\u001b[0m",
            "\u001b[0;31mResourceExhaustedError\u001b[0m                    Traceback (most recent call last)",
            "\u001b[0;32m<ipython-input-13-362c9152963b>\u001b[0m in \u001b[0;36m<module>\u001b[0;34m()\u001b[0m\n\u001b[1;32m      5\u001b[0m \u001b[0mfilters\u001b[0m\u001b[0;34m=\u001b[0m \u001b[0;36m1\u001b[0m\u001b[0;34m\u001b[0m\u001b[0;34m\u001b[0m\u001b[0m\n\u001b[1;32m      6\u001b[0m \u001b[0;32mimport\u001b[0m \u001b[0mtensorflow\u001b[0m \u001b[0;32mas\u001b[0m \u001b[0mtf\u001b[0m\u001b[0;34m\u001b[0m\u001b[0;34m\u001b[0m\u001b[0m\n\u001b[0;32m----> 7\u001b[0;31m \u001b[0mmodel\u001b[0m\u001b[0;34m=\u001b[0m\u001b[0mcreate_model\u001b[0m\u001b[0;34m(\u001b[0m\u001b[0mimg_rows\u001b[0m\u001b[0;34m,\u001b[0m\u001b[0mimg_cols\u001b[0m\u001b[0;34m,\u001b[0m\u001b[0mfilters\u001b[0m\u001b[0;34m)\u001b[0m\u001b[0;34m\u001b[0m\u001b[0;34m\u001b[0m\u001b[0m\n\u001b[0m",
            "\u001b[0;32m<ipython-input-9-85a46b9fb804>\u001b[0m in \u001b[0;36mcreate_model\u001b[0;34m(img_rows, img_cols, filters)\u001b[0m\n\u001b[1;32m     28\u001b[0m   \u001b[0;31m#Fully connected 1st layer\u001b[0m\u001b[0;34m\u001b[0m\u001b[0;34m\u001b[0m\u001b[0;34m\u001b[0m\u001b[0m\n\u001b[1;32m     29\u001b[0m   \u001b[0mmodel\u001b[0m\u001b[0;34m.\u001b[0m\u001b[0madd\u001b[0m\u001b[0;34m(\u001b[0m\u001b[0mFlatten\u001b[0m\u001b[0;34m(\u001b[0m\u001b[0;34m)\u001b[0m\u001b[0;34m)\u001b[0m\u001b[0;34m\u001b[0m\u001b[0;34m\u001b[0m\u001b[0m\n\u001b[0;32m---> 30\u001b[0;31m   \u001b[0mmodel\u001b[0m\u001b[0;34m.\u001b[0m\u001b[0madd\u001b[0m\u001b[0;34m(\u001b[0m\u001b[0mDense\u001b[0m\u001b[0;34m(\u001b[0m\u001b[0;36m25088\u001b[0m\u001b[0;34m,\u001b[0m\u001b[0muse_bias\u001b[0m\u001b[0;34m=\u001b[0m\u001b[0;32mTrue\u001b[0m\u001b[0;34m)\u001b[0m\u001b[0;34m)\u001b[0m\u001b[0;34m\u001b[0m\u001b[0;34m\u001b[0m\u001b[0m\n\u001b[0m\u001b[1;32m     31\u001b[0m   \u001b[0mmodel\u001b[0m\u001b[0;34m.\u001b[0m\u001b[0madd\u001b[0m\u001b[0;34m(\u001b[0m\u001b[0mActivation\u001b[0m\u001b[0;34m(\u001b[0m\u001b[0;34m'relu'\u001b[0m\u001b[0;34m)\u001b[0m\u001b[0;34m)\u001b[0m\u001b[0;34m\u001b[0m\u001b[0;34m\u001b[0m\u001b[0m\n\u001b[1;32m     32\u001b[0m   \u001b[0;31m#model.add(Dropout(droprate))\u001b[0m\u001b[0;34m\u001b[0m\u001b[0;34m\u001b[0m\u001b[0;34m\u001b[0m\u001b[0m\n",
            "\u001b[0;32m/usr/local/lib/python3.7/dist-packages/tensorflow/python/training/tracking/base.py\u001b[0m in \u001b[0;36m_method_wrapper\u001b[0;34m(self, *args, **kwargs)\u001b[0m\n\u001b[1;32m    627\u001b[0m     \u001b[0mself\u001b[0m\u001b[0;34m.\u001b[0m\u001b[0m_self_setattr_tracking\u001b[0m \u001b[0;34m=\u001b[0m \u001b[0;32mFalse\u001b[0m  \u001b[0;31m# pylint: disable=protected-access\u001b[0m\u001b[0;34m\u001b[0m\u001b[0;34m\u001b[0m\u001b[0m\n\u001b[1;32m    628\u001b[0m     \u001b[0;32mtry\u001b[0m\u001b[0;34m:\u001b[0m\u001b[0;34m\u001b[0m\u001b[0;34m\u001b[0m\u001b[0m\n\u001b[0;32m--> 629\u001b[0;31m       \u001b[0mresult\u001b[0m \u001b[0;34m=\u001b[0m \u001b[0mmethod\u001b[0m\u001b[0;34m(\u001b[0m\u001b[0mself\u001b[0m\u001b[0;34m,\u001b[0m \u001b[0;34m*\u001b[0m\u001b[0margs\u001b[0m\u001b[0;34m,\u001b[0m \u001b[0;34m**\u001b[0m\u001b[0mkwargs\u001b[0m\u001b[0;34m)\u001b[0m\u001b[0;34m\u001b[0m\u001b[0;34m\u001b[0m\u001b[0m\n\u001b[0m\u001b[1;32m    630\u001b[0m     \u001b[0;32mfinally\u001b[0m\u001b[0;34m:\u001b[0m\u001b[0;34m\u001b[0m\u001b[0;34m\u001b[0m\u001b[0m\n\u001b[1;32m    631\u001b[0m       \u001b[0mself\u001b[0m\u001b[0;34m.\u001b[0m\u001b[0m_self_setattr_tracking\u001b[0m \u001b[0;34m=\u001b[0m \u001b[0mprevious_value\u001b[0m  \u001b[0;31m# pylint: disable=protected-access\u001b[0m\u001b[0;34m\u001b[0m\u001b[0;34m\u001b[0m\u001b[0m\n",
            "\u001b[0;32m/usr/local/lib/python3.7/dist-packages/keras/utils/traceback_utils.py\u001b[0m in \u001b[0;36merror_handler\u001b[0;34m(*args, **kwargs)\u001b[0m\n\u001b[1;32m     65\u001b[0m     \u001b[0;32mexcept\u001b[0m \u001b[0mException\u001b[0m \u001b[0;32mas\u001b[0m \u001b[0me\u001b[0m\u001b[0;34m:\u001b[0m  \u001b[0;31m# pylint: disable=broad-except\u001b[0m\u001b[0;34m\u001b[0m\u001b[0;34m\u001b[0m\u001b[0m\n\u001b[1;32m     66\u001b[0m       \u001b[0mfiltered_tb\u001b[0m \u001b[0;34m=\u001b[0m \u001b[0m_process_traceback_frames\u001b[0m\u001b[0;34m(\u001b[0m\u001b[0me\u001b[0m\u001b[0;34m.\u001b[0m\u001b[0m__traceback__\u001b[0m\u001b[0;34m)\u001b[0m\u001b[0;34m\u001b[0m\u001b[0;34m\u001b[0m\u001b[0m\n\u001b[0;32m---> 67\u001b[0;31m       \u001b[0;32mraise\u001b[0m \u001b[0me\u001b[0m\u001b[0;34m.\u001b[0m\u001b[0mwith_traceback\u001b[0m\u001b[0;34m(\u001b[0m\u001b[0mfiltered_tb\u001b[0m\u001b[0;34m)\u001b[0m \u001b[0;32mfrom\u001b[0m \u001b[0;32mNone\u001b[0m\u001b[0;34m\u001b[0m\u001b[0;34m\u001b[0m\u001b[0m\n\u001b[0m\u001b[1;32m     68\u001b[0m     \u001b[0;32mfinally\u001b[0m\u001b[0;34m:\u001b[0m\u001b[0;34m\u001b[0m\u001b[0;34m\u001b[0m\u001b[0m\n\u001b[1;32m     69\u001b[0m       \u001b[0;32mdel\u001b[0m \u001b[0mfiltered_tb\u001b[0m\u001b[0;34m\u001b[0m\u001b[0;34m\u001b[0m\u001b[0m\n",
            "\u001b[0;32m/usr/local/lib/python3.7/dist-packages/keras/backend.py\u001b[0m in \u001b[0;36mrandom_uniform\u001b[0;34m(self, shape, minval, maxval, dtype)\u001b[0m\n\u001b[1;32m   1920\u001b[0m     return tf.random.uniform(\n\u001b[1;32m   1921\u001b[0m         \u001b[0mshape\u001b[0m\u001b[0;34m=\u001b[0m\u001b[0mshape\u001b[0m\u001b[0;34m,\u001b[0m \u001b[0mminval\u001b[0m\u001b[0;34m=\u001b[0m\u001b[0mminval\u001b[0m\u001b[0;34m,\u001b[0m \u001b[0mmaxval\u001b[0m\u001b[0;34m=\u001b[0m\u001b[0mmaxval\u001b[0m\u001b[0;34m,\u001b[0m \u001b[0mdtype\u001b[0m\u001b[0;34m=\u001b[0m\u001b[0mdtype\u001b[0m\u001b[0;34m,\u001b[0m\u001b[0;34m\u001b[0m\u001b[0;34m\u001b[0m\u001b[0m\n\u001b[0;32m-> 1922\u001b[0;31m         seed=self.make_legacy_seed())\n\u001b[0m\u001b[1;32m   1923\u001b[0m \u001b[0;34m\u001b[0m\u001b[0m\n\u001b[1;32m   1924\u001b[0m   \u001b[0;32mdef\u001b[0m \u001b[0mtruncated_normal\u001b[0m\u001b[0;34m(\u001b[0m\u001b[0mself\u001b[0m\u001b[0;34m,\u001b[0m \u001b[0mshape\u001b[0m\u001b[0;34m,\u001b[0m \u001b[0mmean\u001b[0m\u001b[0;34m=\u001b[0m\u001b[0;36m0.\u001b[0m\u001b[0;34m,\u001b[0m \u001b[0mstddev\u001b[0m\u001b[0;34m=\u001b[0m\u001b[0;36m1.\u001b[0m\u001b[0;34m,\u001b[0m \u001b[0mdtype\u001b[0m\u001b[0;34m=\u001b[0m\u001b[0;32mNone\u001b[0m\u001b[0;34m)\u001b[0m\u001b[0;34m:\u001b[0m\u001b[0;34m\u001b[0m\u001b[0;34m\u001b[0m\u001b[0m\n",
            "\u001b[0;31mResourceExhaustedError\u001b[0m: OOM when allocating tensor with shape[663552,25088] and type float on /job:localhost/replica:0/task:0/device:GPU:0 by allocator GPU_0_bfc [Op:RandomUniform]"
          ]
        }
      ]
    },
    {
      "cell_type": "markdown",
      "source": [
        ""
      ],
      "metadata": {
        "id": "cK-v0XDcVKt0"
      }
    },
    {
      "cell_type": "code",
      "source": [
        "epochs=50\n",
        "img_rows=X_train_CNN.shape[1]\n",
        "img_cols=X_train_CNN.shape[2]\n",
        "filters= 1\n",
        "import tensorflow as tf\n",
        "model=create_model(img_rows,img_cols,filters)\n",
        "model.compile(loss=keras.losses.categorical_crossentropy,\n",
        "              optimizer=keras.optimizers.rmsprop_v2.RMSProp(),\n",
        "              metrics=[tf.keras.metrics.Recall()])\n",
        "\n",
        "model.summary()\n",
        "\n",
        "#Save Model=ON\n",
        "history = model.fit(X_train_CNN, y_train_CNN,\n",
        "          batch_size= batch_size,\n",
        "          epochs=epochs,\n",
        "          verbose=1,\n",
        "          validation_data=(X_test_CNN, y_test_CNN),shuffle=True,callbacks=callbacks)\n",
        "\n",
        "score = model.evaluate(X_test_CNN, y_test_CNN, verbose=1)\n",
        "\n",
        "#print loss and accuracy\n",
        "print('Test loss:', score[0])\n",
        "print('Test accuracy:', score[1])"
      ],
      "metadata": {
        "id": "C3d6NafcRsnr"
      },
      "execution_count": null,
      "outputs": []
    },
    {
      "cell_type": "code",
      "source": [
        ""
      ],
      "metadata": {
        "id": "8p0VN1G7R8HH"
      },
      "execution_count": null,
      "outputs": []
    },
    {
      "cell_type": "code",
      "source": [
        "# Create a basic model instance\n",
        "epochs=50\n",
        "img_rows=X_train_CNN.shape[1]\n",
        "img_cols=X_train_CNN.shape[2]\n",
        "filters= 1\n",
        "model=create_model(img_rows,img_cols,1)\n",
        "metrics = EarlyStopByF1(verbose=1)\n",
        "model.fit(X_train_CNN, y_train_CNN, batch_size=batch_size, epochs = epochs, verbose=1, validation_data = (X_test_CNN, y_test_CNN),shuffle=True,callbacks=callbacks)\n",
        "score = model.evaluate(X_test_CNN, y_test_CNN, verbose=1)\n",
        "\n",
        "#print loss and accuracy\n",
        "print('Test loss:', score[0])\n",
        "print('Test accuracy:', score[1])\n",
        "# saving the model in tensorflow format\n",
        "model.save('./wave2vec2',save_format='tf')"
      ],
      "metadata": {
        "id": "E-GErcJp9EDG"
      },
      "execution_count": null,
      "outputs": []
    },
    {
      "cell_type": "code",
      "source": [
        "# loading the saved model\n",
        "loaded_model = tf.keras.models.load_model('./wave2vec2')\n",
        "# retraining the model\n",
        "loaded_model.fit(x_train, y_train, epochs = 10, validation_data = (x_test,y_test),verbose=1)"
      ],
      "metadata": {
        "id": "9Sl2wcZ79GOA"
      },
      "execution_count": null,
      "outputs": []
    },
    {
      "cell_type": "code",
      "source": [
        "\n",
        "        \n",
        "\n",
        "        \n"
      ],
      "metadata": {
        "id": "9zxpkxSRD8nx"
      },
      "execution_count": null,
      "outputs": []
    },
    {
      "cell_type": "code",
      "source": [
        " start, end , arr , labels  = datanumpy(10, 10)"
      ],
      "metadata": {
        "id": "Pz8oJso7hbnY"
      },
      "execution_count": null,
      "outputs": []
    },
    {
      "cell_type": "code",
      "source": [
        "ab[2].shape"
      ],
      "metadata": {
        "id": "0M5BtcGijDsw"
      },
      "execution_count": null,
      "outputs": []
    },
    {
      "cell_type": "code",
      "source": [
        "ab[2].reshape(10,4628,768,1).shape"
      ],
      "metadata": {
        "id": "7znFRKRohm-N"
      },
      "execution_count": null,
      "outputs": []
    },
    {
      "cell_type": "markdown",
      "source": [
        ""
      ],
      "metadata": {
        "id": "fR-x1T_99DYR"
      }
    }
  ]
}